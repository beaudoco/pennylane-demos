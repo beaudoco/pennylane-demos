{
 "cells": [
  {
   "cell_type": "code",
   "execution_count": 1,
   "id": "active-seven",
   "metadata": {},
   "outputs": [],
   "source": [
    "#import pennylane files\n",
    "import pennylane as qml\n",
    "from pennylane import numpy as np\n",
    "#set device\n",
    "#this is only using gaussians so we can use\n",
    "#the gaussian device\n",
    "dev_gaussian = qml.device(\"default.gaussian\", wires=1)"
   ]
  },
  {
   "cell_type": "code",
   "execution_count": 2,
   "id": "centered-comparative",
   "metadata": {},
   "outputs": [],
   "source": [
    "#construct QNode\n",
    "@qml.qnode(dev_gaussian)\n",
    "def mean_photon_gaussian(mag_alpha, phase_alpha, phi):\n",
    "    #break up the complex alpha to two real nums\n",
    "    #this is polar representation\n",
    "    qml.Displacement(mag_alpha, phase_alpha, wires=0)\n",
    "    qml.Rotation(phi, wires=0)\n",
    "    return qml.expval(qml.NumberOperator(0))"
   ]
  },
  {
   "cell_type": "code",
   "execution_count": 3,
   "id": "supreme-southwest",
   "metadata": {},
   "outputs": [],
   "source": [
    "#define the cost function \n",
    "#we want the mean photon to be 1 so we use\n",
    "#the squared difference cost fxn\n",
    "def cost(params):\n",
    "    return (mean_photon_gaussian(params[0], params[1], params[2]) - 1.0) ** 2"
   ]
  },
  {
   "cell_type": "code",
   "execution_count": 4,
   "id": "individual-excuse",
   "metadata": {},
   "outputs": [
    {
     "name": "stdout",
     "output_type": "stream",
     "text": [
      "0.9995500506249999\n"
     ]
    }
   ],
   "source": [
    "#declare arbitrarily small params\n",
    "init_params = [0.015, 0.02, 0.005]\n",
    "print(cost(init_params))"
   ]
  },
  {
   "cell_type": "code",
   "execution_count": 5,
   "id": "raised-superintendent",
   "metadata": {},
   "outputs": [
    {
     "name": "stdout",
     "output_type": "stream",
     "text": [
      "Cost after step     1: 0.999118\n",
      "Cost after step     2: 0.998273\n",
      "Cost after step     3: 0.996618\n",
      "Cost after step     4: 0.993382\n",
      "Cost after step     5: 0.987074\n",
      "Cost after step     6: 0.974837\n",
      "Cost after step     7: 0.951332\n",
      "Cost after step     8: 0.907043\n",
      "Cost after step     9: 0.826649\n",
      "Cost after step    10: 0.690812\n",
      "Cost after step    11: 0.490303\n",
      "Cost after step    12: 0.258845\n",
      "Cost after step    13: 0.083224\n",
      "Cost after step    14: 0.013179\n",
      "Cost after step    15: 0.001001\n",
      "Cost after step    16: 0.000049\n",
      "Cost after step    17: 0.000002\n",
      "Cost after step    18: 0.000000\n",
      "Cost after step    19: 0.000000\n",
      "Cost after step    20: 0.000000\n",
      "Optimized mag_alpha:0.999994\n",
      "Optimized phase_alpha:0.020000\n",
      "Optimized phi:0.005000\n"
     ]
    }
   ],
   "source": [
    "# initialise the optimizer\n",
    "opt = qml.GradientDescentOptimizer(stepsize=0.1)\n",
    "\n",
    "# set the number of steps\n",
    "steps = 20\n",
    "# set the initial parameter values\n",
    "params = init_params\n",
    "\n",
    "for i in range(steps):\n",
    "    # update the circuit parameters\n",
    "    params = opt.step(cost, params)\n",
    "\n",
    "    print(\"Cost after step {:5d}: {:8f}\".format(i + 1, cost(params)))\n",
    "\n",
    "print(\"Optimized mag_alpha:{:8f}\".format(params[0]))\n",
    "print(\"Optimized phase_alpha:{:8f}\".format(params[1]))\n",
    "print(\"Optimized phi:{:8f}\".format(params[2]))"
   ]
  },
  {
   "cell_type": "code",
   "execution_count": null,
   "id": "suburban-canberra",
   "metadata": {},
   "outputs": [],
   "source": []
  }
 ],
 "metadata": {
  "kernelspec": {
   "display_name": "Python 3",
   "language": "python",
   "name": "python3"
  },
  "language_info": {
   "codemirror_mode": {
    "name": "ipython",
    "version": 3
   },
   "file_extension": ".py",
   "mimetype": "text/x-python",
   "name": "python",
   "nbconvert_exporter": "python",
   "pygments_lexer": "ipython3",
   "version": "3.8.6"
  }
 },
 "nbformat": 4,
 "nbformat_minor": 5
}
