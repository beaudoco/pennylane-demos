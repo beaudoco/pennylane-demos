{
 "cells": [
  {
   "cell_type": "code",
   "execution_count": 2,
   "id": "dimensional-newton",
   "metadata": {},
   "outputs": [],
   "source": [
    "#import pennylane files\n",
    "import pennylane as qml\n",
    "from pennylane import numpy as np\n",
    "#set device\n",
    "#use the straberryfields fock device for\n",
    "#the QNode\n",
    "dev_fock = qml.device(\"strawberryfields.fock\", wires=2, cutoff_dim=2)"
   ]
  },
  {
   "cell_type": "code",
   "execution_count": 3,
   "id": "disabled-probability",
   "metadata": {},
   "outputs": [],
   "source": [
    "#construct QNode\n",
    "@qml.qnode(dev_fock, diff_method=\"parameter-shift\")\n",
    "def photon_redirection(params):\n",
    "    #prepare the first wire in the vaccuum state\n",
    "    qml.FockState(1, wires=0)\n",
    "    #use both wires on a beamsplitter\n",
    "    qml.Beamsplitter(params[0], params[1], wires=[0, 1])\n",
    "    return qml.expval(qml.NumberOperator(1))"
   ]
  },
  {
   "cell_type": "code",
   "execution_count": 4,
   "id": "important-output",
   "metadata": {},
   "outputs": [],
   "source": [
    "#define the cost function \n",
    "#minimize the negative of the circuit output\n",
    "def cost(params):\n",
    "    return -photon_redirection(params)"
   ]
  },
  {
   "cell_type": "code",
   "execution_count": 5,
   "id": "blocked-provincial",
   "metadata": {},
   "outputs": [
    {
     "name": "stdout",
     "output_type": "stream",
     "text": [
      "-9.999666671111081e-05\n"
     ]
    }
   ],
   "source": [
    "#choose arbitrarily small theta and phi values\n",
    "init_params = np.array([0.01, 0.01])\n",
    "print(cost(init_params))"
   ]
  },
  {
   "cell_type": "code",
   "execution_count": 6,
   "id": "differential-statistics",
   "metadata": {},
   "outputs": [
    {
     "name": "stdout",
     "output_type": "stream",
     "text": [
      "[array(0.), array(0.)]\n"
     ]
    }
   ],
   "source": [
    "#proving that the choice of 0 for theta and\n",
    "#phi would not allow for descention from max\n",
    "dphoton_redirection = qml.grad(photon_redirection, argnum=0)\n",
    "print(dphoton_redirection([0.0, 0.0]))"
   ]
  },
  {
   "cell_type": "code",
   "execution_count": 7,
   "id": "danish-array",
   "metadata": {},
   "outputs": [
    {
     "name": "stdout",
     "output_type": "stream",
     "text": [
      "Cost after step     5: -0.0349558\n",
      "Cost after step    10: -0.9969017\n",
      "Cost after step    15: -1.0000000\n",
      "Cost after step    20: -1.0000000\n",
      "Cost after step    25: -1.0000000\n",
      "Cost after step    30: -1.0000000\n",
      "Cost after step    35: -1.0000000\n",
      "Cost after step    40: -1.0000000\n",
      "Cost after step    45: -1.0000000\n",
      "Cost after step    50: -1.0000000\n",
      "Cost after step    55: -1.0000000\n",
      "Cost after step    60: -1.0000000\n",
      "Cost after step    65: -1.0000000\n",
      "Cost after step    70: -1.0000000\n",
      "Cost after step    75: -1.0000000\n",
      "Cost after step    80: -1.0000000\n",
      "Cost after step    85: -1.0000000\n",
      "Cost after step    90: -1.0000000\n",
      "Cost after step    95: -1.0000000\n",
      "Cost after step   100: -1.0000000\n",
      "Optimized rotation angles: [1.57079633 0.01      ]\n"
     ]
    }
   ],
   "source": [
    "# initialise the optimizer\n",
    "opt = qml.GradientDescentOptimizer(stepsize=0.4)\n",
    "\n",
    "# set the number of steps\n",
    "steps = 100\n",
    "# set the initial parameter values\n",
    "params = init_params\n",
    "\n",
    "for i in range(steps):\n",
    "    # update the circuit parameters\n",
    "    params = opt.step(cost, params)\n",
    "\n",
    "    if (i + 1) % 5 == 0:\n",
    "        print(\"Cost after step {:5d}: {: .7f}\".format(i + 1, cost(params)))\n",
    "\n",
    "print(\"Optimized rotation angles: {}\".format(params))"
   ]
  },
  {
   "cell_type": "code",
   "execution_count": 8,
   "id": "micro-gallery",
   "metadata": {},
   "outputs": [],
   "source": [
    "# create the devices\n",
    "dev_qubit = qml.device(\"default.qubit\", wires=1)\n",
    "dev_fock = qml.device(\"strawberryfields.fock\", wires=2, cutoff_dim=10)\n",
    "\n",
    "\n",
    "@qml.qnode(dev_qubit)\n",
    "def qubit_rotation(phi1, phi2):\n",
    "    \"\"\"Qubit rotation QNode\"\"\"\n",
    "    qml.RX(phi1, wires=0)\n",
    "    qml.RY(phi2, wires=0)\n",
    "    return qml.expval(qml.PauliZ(0))\n",
    "\n",
    "\n",
    "@qml.qnode(dev_fock, diff_method=\"parameter-shift\")\n",
    "def photon_redirection(params):\n",
    "    \"\"\"The photon redirection QNode\"\"\"\n",
    "    qml.FockState(1, wires=0)\n",
    "    qml.Beamsplitter(params[0], params[1], wires=[0, 1])\n",
    "    return qml.expval(qml.NumberOperator(1))\n",
    "\n",
    "\n",
    "def squared_difference(x, y):\n",
    "    \"\"\"Classical node to compute the squared\n",
    "    difference between two inputs\"\"\"\n",
    "    return np.abs(x - y) ** 2"
   ]
  },
  {
   "cell_type": "code",
   "execution_count": 9,
   "id": "electric-salem",
   "metadata": {},
   "outputs": [],
   "source": [
    "#qubit rotation\n",
    "#phi1 & phi2 are fixed\n",
    "#photon rotation\n",
    "#phi and theta are to be optimized\n",
    "#absolute difference squared\n",
    "#both qnodes will be fed returning the\n",
    "#squared difference of the quantum fxns\n",
    "#gradient calculation\n",
    "#the optimizer will calc the gradient\n",
    "# with respect to theta & phi updating vals\n",
    "def cost(params, phi1=0.5, phi2=0.1):\n",
    "    \"\"\"Returns the squared difference between\n",
    "    the photon-redirection and qubit-rotation QNodes, for\n",
    "    fixed values of the qubit rotation angles phi1 and phi2\"\"\"\n",
    "    qubit_result = qubit_rotation(phi1, phi2)\n",
    "    photon_result = photon_redirection(params)\n",
    "    return squared_difference(qubit_result, photon_result)"
   ]
  },
  {
   "cell_type": "code",
   "execution_count": 10,
   "id": "fatty-retailer",
   "metadata": {},
   "outputs": [
    {
     "name": "stdout",
     "output_type": "stream",
     "text": [
      "Cost after step     5:  0.2154539\n",
      "Cost after step    10:  0.0000982\n",
      "Cost after step    15:  0.0000011\n",
      "Cost after step    20:  0.0000000\n",
      "Cost after step    25:  0.0000000\n",
      "Cost after step    30:  0.0000000\n",
      "Cost after step    35:  0.0000000\n",
      "Cost after step    40:  0.0000000\n",
      "Cost after step    45:  0.0000000\n",
      "Cost after step    50:  0.0000000\n",
      "Cost after step    55:  0.0000000\n",
      "Cost after step    60:  0.0000000\n",
      "Cost after step    65:  0.0000000\n",
      "Cost after step    70:  0.0000000\n",
      "Cost after step    75:  0.0000000\n",
      "Cost after step    80:  0.0000000\n",
      "Cost after step    85:  0.0000000\n",
      "Cost after step    90:  0.0000000\n",
      "Cost after step    95:  0.0000000\n",
      "Cost after step   100:  0.0000000\n",
      "Optimized rotation angles: [1.20671364 0.01      ]\n"
     ]
    }
   ],
   "source": [
    "# initialise the optimizer\n",
    "opt = qml.GradientDescentOptimizer(stepsize=0.4)\n",
    "\n",
    "# set the number of steps\n",
    "steps = 100\n",
    "# set the initial parameter values\n",
    "params = np.array([0.01, 0.01])\n",
    "\n",
    "for i in range(steps):\n",
    "    # update the circuit parameters\n",
    "    params = opt.step(cost, params)\n",
    "\n",
    "    if (i + 1) % 5 == 0:\n",
    "        print(\"Cost after step {:5d}: {: .7f}\".format(i + 1, cost(params)))\n",
    "\n",
    "print(\"Optimized rotation angles: {}\".format(params))"
   ]
  },
  {
   "cell_type": "code",
   "execution_count": 11,
   "id": "economic-plenty",
   "metadata": {},
   "outputs": [
    {
     "name": "stdout",
     "output_type": "stream",
     "text": [
      "0.8731983021146449\n",
      "0.8731983044562817\n"
     ]
    }
   ],
   "source": [
    "#subing into photon redirection QNode shows\n",
    "#this is the same as qubit rotation QNode\n",
    "result = [1.20671364, 0.01]\n",
    "print(photon_redirection(result))\n",
    "print(qubit_rotation(0.5, 0.1))"
   ]
  },
  {
   "cell_type": "code",
   "execution_count": null,
   "id": "hazardous-feeding",
   "metadata": {},
   "outputs": [],
   "source": []
  }
 ],
 "metadata": {
  "kernelspec": {
   "display_name": "Python 3",
   "language": "python",
   "name": "python3"
  },
  "language_info": {
   "codemirror_mode": {
    "name": "ipython",
    "version": 3
   },
   "file_extension": ".py",
   "mimetype": "text/x-python",
   "name": "python",
   "nbconvert_exporter": "python",
   "pygments_lexer": "ipython3",
   "version": "3.8.8"
  }
 },
 "nbformat": 4,
 "nbformat_minor": 5
}
