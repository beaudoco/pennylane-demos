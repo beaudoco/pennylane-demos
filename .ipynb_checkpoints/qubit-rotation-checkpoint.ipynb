{
 "cells": [
  {
   "cell_type": "code",
   "execution_count": 24,
   "id": "synthetic-plant",
   "metadata": {},
   "outputs": [],
   "source": [
    "#import pennylane files\n",
    "import pennylane as qml\n",
    "from pennylane import numpy as np\n",
    "#set device \n",
    "dev1 = qml.device(\"default.qubit\", wires=1)"
   ]
  },
  {
   "cell_type": "code",
   "execution_count": 19,
   "id": "processed-coverage",
   "metadata": {},
   "outputs": [],
   "source": [
    "#construct QNode\n",
    "@qml.qnode(dev1)\n",
    "\n",
    "#define the circuit being used\n",
    "def circuit(params):\n",
    "    #Rotate around the X and Y off the\n",
    "    #Given values\n",
    "    qml.RX(params[0], wires=0)\n",
    "    qml.RY(params[1], wires=0)\n",
    "    return qml.expval(qml.PauliZ(0))"
   ]
  },
  {
   "cell_type": "code",
   "execution_count": 20,
   "id": "solid-field",
   "metadata": {},
   "outputs": [
    {
     "name": "stdout",
     "output_type": "stream",
     "text": [
      "0.8515405859048366\n"
     ]
    }
   ],
   "source": [
    "print(circuit([0.54, 0.12]))"
   ]
  },
  {
   "cell_type": "code",
   "execution_count": 21,
   "id": "threatened-slope",
   "metadata": {},
   "outputs": [
    {
     "name": "stdout",
     "output_type": "stream",
     "text": [
      "[array(-0.51043865), array(-0.1026782)]\n"
     ]
    }
   ],
   "source": [
    "#find the gradient of the circuit\n",
    "dcircuit = qml.grad(circuit, argnum=0)\n",
    "print(dcircuit([0.54, 0.12]))"
   ]
  },
  {
   "cell_type": "code",
   "execution_count": 22,
   "id": "numerous-shuttle",
   "metadata": {},
   "outputs": [
    {
     "name": "stdout",
     "output_type": "stream",
     "text": [
      "(array(-0.51043865), array(-0.1026782))\n"
     ]
    }
   ],
   "source": [
    "#Repeat the same setup above\n",
    "#Construct QNode\n",
    "@qml.qnode(dev1)\n",
    "\n",
    "#define the circuit being used\n",
    "#use propositional argument insead of array\n",
    "def circuit2(phi1, phi2):\n",
    "    #Rotate around the X and Y off the\n",
    "    #Given values\n",
    "    qml.RX(phi1, wires=0)\n",
    "    qml.RY(phi2, wires=0)\n",
    "    return qml.expval(qml.PauliZ(0))\n",
    "\n",
    "#define the gradient using propositionals\n",
    "dcircuit = qml.grad(circuit2, argnum=[0, 1])\n",
    "#print the gradient passing in the props\n",
    "print(dcircuit(0.54, 0.12))"
   ]
  },
  {
   "cell_type": "code",
   "execution_count": 23,
   "id": "detected-celtic",
   "metadata": {},
   "outputs": [
    {
     "name": "stdout",
     "output_type": "stream",
     "text": [
      "0.9998675058299389\n"
     ]
    }
   ],
   "source": [
    "#define the cost to rotate around the Bloch\n",
    "def cost(x):\n",
    "    return circuit(x)\n",
    "\n",
    "#choosing random small values to begin\n",
    "#optimiaztion work\n",
    "init_params = np.array([0.011, 0.012])\n",
    "print(cost(init_params))"
   ]
  },
  {
   "cell_type": "code",
   "execution_count": null,
   "id": "organic-complex",
   "metadata": {},
   "outputs": [],
   "source": []
  }
 ],
 "metadata": {
  "kernelspec": {
   "display_name": "Python 3",
   "language": "python",
   "name": "python3"
  },
  "language_info": {
   "codemirror_mode": {
    "name": "ipython",
    "version": 3
   },
   "file_extension": ".py",
   "mimetype": "text/x-python",
   "name": "python",
   "nbconvert_exporter": "python",
   "pygments_lexer": "ipython3",
   "version": "3.8.6"
  }
 },
 "nbformat": 4,
 "nbformat_minor": 5
}
