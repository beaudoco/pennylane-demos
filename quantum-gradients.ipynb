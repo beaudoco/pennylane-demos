{
 "cells": [
  {
   "cell_type": "code",
   "execution_count": 1,
   "id": "tracked-louisiana",
   "metadata": {},
   "outputs": [],
   "source": [
    "import numpy as np\n",
    "import pennylane as qml\n",
    "\n",
    "# set the random seed\n",
    "np.random.seed(42)\n",
    "\n",
    "# create a device to execute the circuit on\n",
    "dev = qml.device(\"default.qubit\", wires=3)\n",
    "\n",
    "@qml.qnode(dev, diff_method=\"parameter-shift\")\n",
    "def circuit(params):\n",
    "    #rotate around the X,Y,Z\n",
    "    qml.RX(params[0], wires=0)\n",
    "    qml.RY(params[1], wires=1)\n",
    "    qml.RZ(params[2], wires=2)\n",
    "    \n",
    "    #broadcast a CNOT across all wires\n",
    "    qml.broadcast(qml.CNOT, wires=[0, 1, 2], pattern=\"ring\")\n",
    "    \n",
    "    #rotate around the X,Y,Z again\n",
    "    qml.RX(params[3], wires=0)\n",
    "    qml.RY(params[4], wires=1)\n",
    "    qml.RZ(params[5], wires=2)\n",
    "    \n",
    "    #broadcast a CNOT across all wires\n",
    "    qml.broadcast(qml.CNOT, wires=[0, 1, 2], pattern=\"ring\")\n",
    "    return qml.expval(qml.PauliY(0) @ qml.PauliZ(2))"
   ]
  },
  {
   "cell_type": "code",
   "execution_count": 2,
   "id": "premier-weight",
   "metadata": {},
   "outputs": [
    {
     "name": "stdout",
     "output_type": "stream",
     "text": [
      "Parameters: [0.37454012 0.95071431 0.73199394 0.59865848 0.15601864 0.15599452]\n",
      "Expectation value: -0.1197136570687157\n"
     ]
    }
   ],
   "source": [
    "# initial parameters\n",
    "params = np.random.random([6])\n",
    "\n",
    "print(\"Parameters:\", params)\n",
    "print(\"Expectation value:\", circuit(params))"
   ]
  },
  {
   "cell_type": "code",
   "execution_count": 3,
   "id": "ranging-stake",
   "metadata": {},
   "outputs": [
    {
     "name": "stdout",
     "output_type": "stream",
     "text": [
      " 0: ──RX(0.375)──╭C─────────────────╭X──RX(0.599)──╭C──────╭X──╭┤ ⟨Y ⊗ Z⟩ \n",
      " 1: ──RY(0.951)──╰X──╭C──RY(0.156)──│──────────────╰X──╭C──│───│┤         \n",
      " 2: ──RZ(0.732)──────╰X─────────────╰C──RZ(0.156)──────╰X──╰C──╰┤ ⟨Y ⊗ Z⟩ \n",
      "\n"
     ]
    }
   ],
   "source": [
    "print(circuit.draw())"
   ]
  },
  {
   "cell_type": "code",
   "execution_count": 4,
   "id": "persistent-papua",
   "metadata": {},
   "outputs": [
    {
     "name": "stdout",
     "output_type": "stream",
     "text": [
      "-0.06518877224958132\n"
     ]
    }
   ],
   "source": [
    "def parameter_shift_term(qnode, params, i):\n",
    "    shifted = params.copy()\n",
    "    shifted[i] += np.pi/2\n",
    "    forward = qnode(shifted)  # forward evaluation\n",
    "\n",
    "    shifted[i] -= np.pi\n",
    "    backward = qnode(shifted) # backward evaluation\n",
    "\n",
    "    return 0.5 * (forward - backward)\n",
    "\n",
    "# gradient with respect to the first parameter\n",
    "print(parameter_shift_term(circuit, params, 0))"
   ]
  },
  {
   "cell_type": "code",
   "execution_count": 5,
   "id": "asian-vegetable",
   "metadata": {},
   "outputs": [
    {
     "name": "stdout",
     "output_type": "stream",
     "text": [
      "[-6.51887722e-02 -2.72891905e-02  0.00000000e+00 -9.33934621e-02\n",
      " -7.61067572e-01  9.71445147e-17]\n"
     ]
    }
   ],
   "source": [
    "def parameter_shift(qnode, params):\n",
    "    gradients = np.zeros([len(params)])\n",
    "\n",
    "    for i in range(len(params)):\n",
    "        gradients[i] = parameter_shift_term(qnode, params, i)\n",
    "\n",
    "    return gradients\n",
    "\n",
    "print(parameter_shift(circuit, params))"
   ]
  },
  {
   "cell_type": "code",
   "execution_count": 6,
   "id": "compatible-syndrome",
   "metadata": {},
   "outputs": [
    {
     "name": "stdout",
     "output_type": "stream",
     "text": [
      "[-6.51887722e-02 -2.72891905e-02  0.00000000e+00 -9.33934621e-02\n",
      " -7.61067572e-01  9.71445147e-17]\n"
     ]
    }
   ],
   "source": [
    "grad_function = qml.grad(circuit)\n",
    "print(grad_function(params)[0])"
   ]
  },
  {
   "cell_type": "code",
   "execution_count": 7,
   "id": "statistical-philip",
   "metadata": {},
   "outputs": [],
   "source": [
    "dev = qml.device(\"default.qubit\", wires=4)\n",
    "\n",
    "@qml.qnode(dev, diff_method=\"parameter-shift\", mutable=False)\n",
    "def circuit(params):\n",
    "    qml.templates.StronglyEntanglingLayers(params, wires=[0, 1, 2, 3])\n",
    "    return qml.expval(qml.PauliZ(0) @ qml.PauliZ(1) @ qml.PauliZ(2) @ qml.PauliZ(3))"
   ]
  },
  {
   "cell_type": "code",
   "execution_count": 8,
   "id": "brown-being",
   "metadata": {},
   "outputs": [
    {
     "name": "stdout",
     "output_type": "stream",
     "text": [
      "180\n",
      "0.8947771876917632\n"
     ]
    }
   ],
   "source": [
    "# initialize circuit parameters\n",
    "params = qml.init.strong_ent_layers_normal(n_wires=4, n_layers=15)\n",
    "print(params.size)\n",
    "print(circuit(params))"
   ]
  },
  {
   "cell_type": "code",
   "execution_count": 9,
   "id": "collected-blend",
   "metadata": {},
   "outputs": [
    {
     "name": "stdout",
     "output_type": "stream",
     "text": [
      "Forward pass (best of 3): 0.017990618499970877 sec per loop\n"
     ]
    }
   ],
   "source": [
    "import timeit\n",
    "\n",
    "reps = 3\n",
    "num = 10\n",
    "times = timeit.repeat(\"circuit(params)\", globals=globals(), number=num, repeat=reps)\n",
    "forward_time = min(times) / num\n",
    "\n",
    "print(f\"Forward pass (best of {reps}): {forward_time} sec per loop\")"
   ]
  },
  {
   "cell_type": "code",
   "execution_count": 10,
   "id": "civilian-fishing",
   "metadata": {},
   "outputs": [
    {
     "name": "stdout",
     "output_type": "stream",
     "text": [
      "Gradient computation (best of 3): 5.994225577799989 sec per loop\n"
     ]
    }
   ],
   "source": [
    "# create the gradient function\n",
    "grad_fn = qml.grad(circuit)\n",
    "circuit.qtape = None\n",
    "\n",
    "times = timeit.repeat(\"grad_fn(params)\", globals=globals(), number=num, repeat=reps)\n",
    "backward_time = min(times) / num\n",
    "\n",
    "print(f\"Gradient computation (best of {reps}): {backward_time} sec per loop\")"
   ]
  },
  {
   "cell_type": "code",
   "execution_count": 11,
   "id": "bizarre-alert",
   "metadata": {},
   "outputs": [
    {
     "name": "stdout",
     "output_type": "stream",
     "text": [
      "6.476622659989515\n"
     ]
    }
   ],
   "source": [
    "print(2 * forward_time * params.size)"
   ]
  },
  {
   "cell_type": "code",
   "execution_count": 12,
   "id": "governing-antibody",
   "metadata": {},
   "outputs": [],
   "source": [
    "import tensorflow as tf\n",
    "\n",
    "dev = qml.device(\"default.qubit\", wires=4)"
   ]
  },
  {
   "cell_type": "code",
   "execution_count": 13,
   "id": "fallen-franchise",
   "metadata": {},
   "outputs": [
    {
     "name": "stdout",
     "output_type": "stream",
     "text": [
      "tf.Tensor(0.9358535378025423, shape=(), dtype=float64)\n"
     ]
    }
   ],
   "source": [
    "@qml.qnode(dev, diff_method=\"backprop\", interface=\"tf\")\n",
    "def circuit(params):\n",
    "    qml.templates.StronglyEntanglingLayers(params, wires=[0, 1, 2, 3])\n",
    "    return qml.expval(qml.PauliZ(0) @ qml.PauliZ(1) @ qml.PauliZ(2) @ qml.PauliZ(3))\n",
    "\n",
    "# initialize circuit parameters\n",
    "params = qml.init.strong_ent_layers_normal(n_wires=4, n_layers=15)\n",
    "params = tf.Variable(params)\n",
    "print(circuit(params))"
   ]
  },
  {
   "cell_type": "code",
   "execution_count": 14,
   "id": "official-venezuela",
   "metadata": {},
   "outputs": [
    {
     "name": "stdout",
     "output_type": "stream",
     "text": [
      "Forward pass (best of 3): 0.31622914789995776 sec per loop\n"
     ]
    }
   ],
   "source": [
    "import timeit\n",
    "\n",
    "reps = 3\n",
    "num = 10\n",
    "times = timeit.repeat(\"circuit(params)\", globals=globals(), number=num, repeat=reps)\n",
    "forward_time = min(times) / num\n",
    "print(f\"Forward pass (best of {reps}): {forward_time} sec per loop\")"
   ]
  },
  {
   "cell_type": "code",
   "execution_count": 15,
   "id": "pleased-passing",
   "metadata": {},
   "outputs": [
    {
     "name": "stdout",
     "output_type": "stream",
     "text": [
      "Backward pass (best of 3): 0.4650260338999942 sec per loop\n"
     ]
    }
   ],
   "source": [
    "with tf.GradientTape(persistent=True) as tape:\n",
    "    res = circuit(params)\n",
    "\n",
    "times = timeit.repeat(\"tape.gradient(res, params)\", globals=globals(), number=num, repeat=reps)\n",
    "backward_time = min(times) / num\n",
    "print(f\"Backward pass (best of {reps}): {backward_time} sec per loop\")"
   ]
  },
  {
   "cell_type": "code",
   "execution_count": 16,
   "id": "reliable-utility",
   "metadata": {},
   "outputs": [],
   "source": [
    "dev = qml.device(\"default.qubit\", wires=4)\n",
    "\n",
    "def circuit(params):\n",
    "    qml.templates.StronglyEntanglingLayers(params, wires=[0, 1, 2, 3])\n",
    "    return qml.expval(qml.PauliZ(0) @ qml.PauliZ(1) @ qml.PauliZ(2) @ qml.PauliZ(3))"
   ]
  },
  {
   "cell_type": "code",
   "execution_count": null,
   "id": "rotary-worry",
   "metadata": {},
   "outputs": [],
   "source": [
    "reps = 2\n",
    "num = 3\n",
    "\n",
    "forward_shift = []\n",
    "gradient_shift = []\n",
    "forward_backprop = []\n",
    "gradient_backprop = []\n",
    "\n",
    "for depth in range(0, 21):\n",
    "    params = qml.init.strong_ent_layers_normal(n_wires=4, n_layers=depth)\n",
    "    num_params = params.size\n",
    "    params = tf.Variable(params)\n",
    "\n",
    "    # forward pass timing\n",
    "    # ===================\n",
    "\n",
    "    qnode_shift = qml.QNode(circuit, dev, interface=\"tf\", diff_method=\"parameter-shift\", mutable=False)\n",
    "    qnode_backprop = qml.QNode(circuit, dev, interface=\"tf\", diff_method=\"backprop\", mutable=False)\n",
    "\n",
    "    # parameter-shift\n",
    "    t = timeit.repeat(\"qnode_shift(params)\", globals=globals(), number=num, repeat=reps)\n",
    "    forward_shift.append([num_params, min(t) / num])\n",
    "\n",
    "    # backprop\n",
    "    t = timeit.repeat(\"qnode_backprop(params)\", globals=globals(), number=num, repeat=reps)\n",
    "    forward_backprop.append([num_params, min(t) / num])\n",
    "\n",
    "    if num_params == 0:\n",
    "        continue\n",
    "\n",
    "    # Gradient timing\n",
    "    # ===============\n",
    "\n",
    "    qnode_shift = qml.QNode(circuit, dev, interface=\"tf\", diff_method=\"parameter-shift\", mutable=False)\n",
    "    qnode_backprop = qml.QNode(circuit, dev, interface=\"tf\", diff_method=\"backprop\", mutable=False)\n",
    "\n",
    "    # parameter-shift\n",
    "    with tf.GradientTape(persistent=True) as tape:\n",
    "        res = qnode_shift(params)\n",
    "\n",
    "    t = timeit.repeat(\"tape.gradient(res, params)\", globals=globals(), number=num, repeat=reps)\n",
    "    gradient_shift.append([num_params, min(t) / num])\n",
    "\n",
    "    # backprop\n",
    "    with tf.GradientTape(persistent=True) as tape:\n",
    "        res = qnode_backprop(params)\n",
    "\n",
    "    t = timeit.repeat(\"tape.gradient(res, params)\", globals=globals(), number=num, repeat=reps)\n",
    "    gradient_backprop.append([num_params, min(t) / num])\n",
    "\n",
    "gradient_shift = np.array(gradient_shift).T\n",
    "gradient_backprop = np.array(gradient_backprop).T\n",
    "forward_shift = np.array(forward_shift).T\n",
    "forward_backprop = np.array(forward_backprop).T"
   ]
  },
  {
   "cell_type": "code",
   "execution_count": null,
   "id": "considered-cooling",
   "metadata": {},
   "outputs": [],
   "source": [
    "from matplotlib import pyplot as plt\n",
    "plt.style.use(\"bmh\")\n",
    "\n",
    "fig, ax = plt.subplots(1, 1, figsize=(6, 4))\n",
    "\n",
    "ax.plot(*gradient_shift, '.-', label=\"Parameter-shift\")\n",
    "ax.plot(*gradient_backprop, '.-', label=\"Backprop\")\n",
    "ax.set_ylabel(\"Time (s)\")\n",
    "ax.set_xlabel(\"Number of parameters\")\n",
    "ax.legend()\n",
    "\n",
    "plt.show()"
   ]
  },
  {
   "cell_type": "code",
   "execution_count": null,
   "id": "exotic-tennis",
   "metadata": {},
   "outputs": [],
   "source": [
    "gradient_shift[1] /= forward_shift[1, 1:]\n",
    "gradient_backprop[1] /= forward_backprop[1, 1:]\n",
    "\n",
    "fig, ax = plt.subplots(1, 1, figsize=(6, 4))\n",
    "\n",
    "ax.plot(*gradient_shift, '.-', label=\"Parameter-shift\")\n",
    "ax.plot(*gradient_backprop, '.-', label=\"Backprop\")\n",
    "\n",
    "# perform a least squares regression to determine the linear best fit/gradient\n",
    "# for the normalized time vs. number of parameters\n",
    "x = gradient_shift[0]\n",
    "m_shift, c_shift = np.polyfit(*gradient_shift, deg=1)\n",
    "m_back, c_back = np.polyfit(*gradient_backprop, deg=1)\n",
    "\n",
    "ax.plot(x, m_shift * x + c_shift, '--', label=f\"{m_shift:.2f}p{c_shift:+.2f}\")\n",
    "ax.plot(x, m_back * x + c_back, '--', label=f\"{m_back:.2f}p{c_back:+.2f}\")\n",
    "\n",
    "ax.set_ylabel(\"Normalized time\")\n",
    "ax.set_xlabel(\"Number of parameters\")\n",
    "ax.set_xscale(\"log\")\n",
    "ax.set_yscale(\"log\")\n",
    "ax.legend()\n",
    "\n",
    "plt.show()"
   ]
  },
  {
   "cell_type": "code",
   "execution_count": null,
   "id": "gentle-purse",
   "metadata": {},
   "outputs": [],
   "source": []
  }
 ],
 "metadata": {
  "kernelspec": {
   "display_name": "Python 3",
   "language": "python",
   "name": "python3"
  },
  "language_info": {
   "codemirror_mode": {
    "name": "ipython",
    "version": 3
   },
   "file_extension": ".py",
   "mimetype": "text/x-python",
   "name": "python",
   "nbconvert_exporter": "python",
   "pygments_lexer": "ipython3",
   "version": "3.8.8"
  }
 },
 "nbformat": 4,
 "nbformat_minor": 5
}
