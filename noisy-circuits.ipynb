{
 "cells": [
  {
   "cell_type": "code",
   "execution_count": 1,
   "id": "hollow-sudan",
   "metadata": {},
   "outputs": [
    {
     "name": "stdout",
     "output_type": "stream",
     "text": [
      "QNode output = 1.0000\n"
     ]
    }
   ],
   "source": [
    "import pennylane as qml\n",
    "from pennylane import numpy as np\n",
    "\n",
    "dev = qml.device('default.mixed', wires=2)\n",
    "\n",
    "\n",
    "@qml.qnode(dev)\n",
    "def circuit():\n",
    "    qml.Hadamard(wires=0)\n",
    "    qml.CNOT(wires=[0, 1])\n",
    "    return qml.expval(qml.PauliZ(0) @ qml.PauliZ(1))\n",
    "\n",
    "\n",
    "print(f\"QNode output = {circuit():.4f}\")"
   ]
  },
  {
   "cell_type": "code",
   "execution_count": 2,
   "id": "champion-header",
   "metadata": {},
   "outputs": [
    {
     "name": "stdout",
     "output_type": "stream",
     "text": [
      "Output state is = \n",
      "[[0.5 0.  0.  0.5]\n",
      " [0.  0.  0.  0. ]\n",
      " [0.  0.  0.  0. ]\n",
      " [0.5 0.  0.  0.5]]\n"
     ]
    }
   ],
   "source": [
    "print(f\"Output state is = \\n{np.real(dev.state)}\")"
   ]
  },
  {
   "cell_type": "code",
   "execution_count": 3,
   "id": "ranging-transmission",
   "metadata": {},
   "outputs": [
    {
     "name": "stdout",
     "output_type": "stream",
     "text": [
      "QNode output for bit flip probability 0.001 is 0.9960\n",
      "QNode output for bit flip probability 0.01 is 0.9604\n",
      "QNode output for bit flip probability 0.1 is 0.6400\n",
      "QNode output for bit flip probability 0.2 is 0.3600\n"
     ]
    }
   ],
   "source": [
    "@qml.qnode(dev)\n",
    "def bitflip_circuit(p):\n",
    "    qml.Hadamard(wires=0)\n",
    "    qml.CNOT(wires=[0, 1])\n",
    "    qml.BitFlip(p, wires=0)\n",
    "    qml.BitFlip(p, wires=1)\n",
    "    return qml.expval(qml.PauliZ(0) @ qml.PauliZ(1))\n",
    "\n",
    "\n",
    "ps = [0.001, 0.01, 0.1, 0.2]\n",
    "for p in ps:\n",
    "    print(f\"QNode output for bit flip probability {p} is {bitflip_circuit(p):.4f}\")"
   ]
  },
  {
   "cell_type": "code",
   "execution_count": 4,
   "id": "sound-drinking",
   "metadata": {},
   "outputs": [
    {
     "name": "stdout",
     "output_type": "stream",
     "text": [
      "Output state for bit flip probability 0.2 is \n",
      "[[0.34 0.   0.   0.34]\n",
      " [0.   0.16 0.16 0.  ]\n",
      " [0.   0.16 0.16 0.  ]\n",
      " [0.34 0.   0.   0.34]]\n"
     ]
    }
   ],
   "source": [
    "print(f\"Output state for bit flip probability {p} is \\n{np.real(dev.state)}\")\n"
   ]
  },
  {
   "cell_type": "code",
   "execution_count": 5,
   "id": "attached-catch",
   "metadata": {},
   "outputs": [
    {
     "name": "stdout",
     "output_type": "stream",
     "text": [
      "QNode output for depolarizing probability 0.001 is 0.9973\n",
      "QNode output for depolarizing probability 0.01 is 0.9735\n",
      "QNode output for depolarizing probability 0.1 is 0.7511\n",
      "QNode output for depolarizing probability 0.2 is 0.5378\n"
     ]
    }
   ],
   "source": [
    "@qml.qnode(dev)\n",
    "def depolarizing_circuit(p):\n",
    "    qml.Hadamard(wires=0)\n",
    "    qml.CNOT(wires=[0, 1])\n",
    "    qml.DepolarizingChannel(p, wires=0)\n",
    "    qml.DepolarizingChannel(p, wires=1)\n",
    "    return qml.expval(qml.PauliZ(0) @ qml.PauliZ(1))\n",
    "\n",
    "\n",
    "ps = [0.001, 0.01, 0.1, 0.2]\n",
    "for p in ps:\n",
    "    print(f\"QNode output for depolarizing probability {p} is {depolarizing_circuit(p):.4f}\")"
   ]
  },
  {
   "cell_type": "code",
   "execution_count": 6,
   "id": "molecular-planet",
   "metadata": {},
   "outputs": [],
   "source": [
    "ev = np.tensor([0.7781], requires_grad=False)  # observed expectation value\n",
    "\n",
    "def sigmoid(x):\n",
    "    return 1/(1+np.exp(-x))\n",
    "\n",
    "@qml.qnode(dev)\n",
    "def damping_circuit(x):\n",
    "    qml.Hadamard(wires=0)\n",
    "    qml.CNOT(wires=[0, 1])\n",
    "    qml.AmplitudeDamping(sigmoid(x), wires=0)  # p = sigmoid(x)\n",
    "    qml.AmplitudeDamping(sigmoid(x), wires=1)\n",
    "    return qml.expval(qml.PauliZ(0) @ qml.PauliZ(1))"
   ]
  },
  {
   "cell_type": "code",
   "execution_count": 7,
   "id": "certified-tampa",
   "metadata": {},
   "outputs": [],
   "source": [
    "def cost(x, target):\n",
    "    return (damping_circuit(x) - target[0])**2"
   ]
  },
  {
   "cell_type": "code",
   "execution_count": 8,
   "id": "flush-ivory",
   "metadata": {},
   "outputs": [
    {
     "name": "stderr",
     "output_type": "stream",
     "text": [
      "c:\\python38\\lib\\site-packages\\numpy\\core\\_asarray.py:136: VisibleDeprecationWarning: Creating an ndarray from ragged nested sequences (which is a list-or-tuple of lists-or-tuples-or ndarrays with different lengths or shapes) is deprecated. If you meant to do this, you must specify 'dtype=object' when creating the ndarray\n",
      "  return array(a, dtype, copy=False, order=order, subok=True)\n"
     ]
    },
    {
     "name": "stdout",
     "output_type": "stream",
     "text": [
      "Step: 0    Cost: 0.07733961000000007\n",
      "Step: 5    Cost: 0.07733960999999957\n",
      "Step: 10    Cost: 0.0773396099969988\n",
      "Step: 15    Cost: 0.07733959171203489\n",
      "Step: 20    Cost: 0.07722827121891838\n",
      "Step: 25    Cost: 0.0017923029380396919\n",
      "Step: 30    Cost: 3.0199179590479204e-07\n",
      "Step: 34    Cost: 5.228404765345524e-10\n",
      "QNode output after optimization = 0.7781\n",
      "Experimental expectation value = 0.7781\n",
      "Optimized noise parameter p = 0.1271\n"
     ]
    }
   ],
   "source": [
    "opt = qml.GradientDescentOptimizer(stepsize=10)\n",
    "steps = 35\n",
    "x = np.tensor([0.0], requires_grad=True)\n",
    "\n",
    "for i in range(steps):\n",
    "    (x, ev), cost_val = opt.step_and_cost(cost, x, ev)\n",
    "    if i % 5 == 0 or i == steps - 1:\n",
    "        print(f\"Step: {i}    Cost: {cost_val}\")\n",
    "\n",
    "print(f\"QNode output after optimization = {damping_circuit(x):.4f}\")\n",
    "print(f\"Experimental expectation value = {ev[0]}\")\n",
    "print(f\"Optimized noise parameter p = {sigmoid(x.take(0)):.4f}\")"
   ]
  },
  {
   "cell_type": "code",
   "execution_count": null,
   "id": "environmental-calcium",
   "metadata": {},
   "outputs": [],
   "source": []
  }
 ],
 "metadata": {
  "kernelspec": {
   "display_name": "Python 3",
   "language": "python",
   "name": "python3"
  },
  "language_info": {
   "codemirror_mode": {
    "name": "ipython",
    "version": 3
   },
   "file_extension": ".py",
   "mimetype": "text/x-python",
   "name": "python",
   "nbconvert_exporter": "python",
   "pygments_lexer": "ipython3",
   "version": "3.8.6"
  }
 },
 "nbformat": 4,
 "nbformat_minor": 5
}
